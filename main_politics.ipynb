{
 "cells": [
  {
   "cell_type": "markdown",
   "metadata": {},
   "source": [
    "Data Extraction"
   ]
  },
  {
   "cell_type": "code",
   "execution_count": 2,
   "metadata": {},
   "outputs": [],
   "source": [
    "import praw\n",
    "import reddit_keys\n",
    "from datetime import datetime\n",
    "import pandas as pd\n",
    "import numpy as np\n",
    "import json\n",
    "import re\n",
    "import nltk\n",
    "from nltk.corpus import stopwords"
   ]
  },
  {
   "cell_type": "code",
   "execution_count": 3,
   "metadata": {},
   "outputs": [],
   "source": [
    "reddit = praw.Reddit(\n",
    "    client_id=\"IaZneC0z1RiY95lp_R2H5Q\",\n",
    "    client_secret=\"VtyTzGdnn97AjC9vDnL3Wb-NvHK_OA\",\n",
    "    user_agent=\"MDST\"\n",
    ")"
   ]
  },
  {
   "cell_type": "code",
   "execution_count": null,
   "metadata": {},
   "outputs": [
    {
     "name": "stderr",
     "output_type": "stream",
     "text": [
      "/var/folders/8p/n7h1f0bs5p76sqs_h3lhg9ph0000gn/T/ipykernel_15578/2904648029.py:34: DeprecationWarning: datetime.datetime.utcfromtimestamp() is deprecated and scheduled for removal in a future version. Use timezone-aware objects to represent datetimes in UTC: datetime.datetime.fromtimestamp(timestamp, datetime.UTC).\n",
      "  'time_created': datetime.utcfromtimestamp(post.created_utc).strftime('%Y-%m-%d %H:%M:%S'),\n"
     ]
    }
   ],
   "source": [
    "num_posts = 500\n",
    "posts = []\n",
    "\n",
    "subreddit_name1 = \"politics\"\n",
    "subreddit_name2 = \"NeutralPolitics\"\n",
    "subreddit_name3 = \"Republican\"\n",
    "subreddit_name4 = \"democrats\"\n",
    "subreddit_name5 = \"PoliticalDiscussion\"\n",
    "\n",
    "time_filter = \"month\"\n",
    "    \n",
    "subreddit1 = reddit.subreddit(subreddit_name1)\n",
    "subreddit2 = reddit.subreddit(subreddit_name2)\n",
    "subreddit3 = reddit.subreddit(subreddit_name3)\n",
    "subreddit4 = reddit.subreddit(subreddit_name4)\n",
    "subreddit5 = reddit.subreddit(subreddit_name5) \n",
    "\n",
    "subreddits = [subreddit1, subreddit2, subreddit3, subreddit4, subreddit5]\n",
    "\n",
    "for sr in subreddits:\n",
    "    for post in sr.top(time_filter=time_filter, limit=num_posts):\n",
    "        if post.is_self:\n",
    "            post.comments.replace_more(limit=0)\n",
    "\n",
    "            comments = post.comments.list()[:50]\n",
    "\n",
    "            comment_bodies = [comment.body for comment in comments if isinstance(comment, praw.models.Comment)]\n",
    "\n",
    "            posts.append({\n",
    "                'title': post.title,\n",
    "                'content': post.selftext,\n",
    "                'upvotes': post.score,\n",
    "                'upvote_ratio': post.upvote_ratio,\n",
    "                'time_created': datetime.utcfromtimestamp(post.created_utc).strftime('%Y-%m-%d %H:%M:%S'),\n",
    "                'comments': comment_bodies\n",
    "            })\n"
   ]
  },
  {
   "cell_type": "code",
   "execution_count": 4,
   "metadata": {},
   "outputs": [],
   "source": [
    "json_filename = 'reddit_politics_posts.json'"
   ]
  },
  {
   "cell_type": "code",
   "execution_count": null,
   "metadata": {},
   "outputs": [],
   "source": [
    "with open(json_filename, 'w') as f:\n",
    "    json.dump(posts, f, indent=4)"
   ]
  },
  {
   "cell_type": "code",
   "execution_count": null,
   "metadata": {},
   "outputs": [],
   "source": [
    "print(f'Database created and saved to {json_filename}')"
   ]
  },
  {
   "cell_type": "code",
   "execution_count": null,
   "metadata": {},
   "outputs": [],
   "source": [
    "pd.read_json(json_filename)"
   ]
  },
  {
   "cell_type": "code",
   "execution_count": null,
   "metadata": {},
   "outputs": [],
   "source": [
    "# Load the JSON file into a pandas DataFrame\n",
    "json_filename = 'reddit_politics_posts.json'\n",
    "df = pd.read_json(json_filename)\n",
    "\n",
    "# Display the first few rows of the DataFrame\n",
    "print(df.head())\n",
    "\n",
    "# Download NLTK stopwords if you haven't already\n",
    "nltk.download('stopwords')\n",
    "stop_words = set(stopwords.words('english'))\n",
    "\n",
    "# Cleaning function from Tutorial.ipynb (adjusted for this context)\n",
    "def clean_post(post):\n",
    "    # Convert to lowercase\n",
    "    post = post.lower()\n",
    "\n",
    "    # Remove URLs\n",
    "    post = re.sub(r'http\\S+', '', post)\n",
    "\n",
    "    # Remove special characters, numbers, and punctuations\n",
    "    post = re.sub(r'[^a-z\\s]', '', post)\n",
    "\n",
    "    # Remove stopwords\n",
    "    post = ' '.join([word for word in post.split() if word not in stop_words])\n",
    "\n",
    "    return post\n",
    "\n",
    "# Cleaning function for lists of comments\n",
    "def clean_comments(comments):\n",
    "    # Apply the clean_post function to each comment in the list\n",
    "    return [clean_post(comment) for comment in comments]\n",
    "\n",
    "# Apply the cleaning function to both 'content' and 'title' columns\n",
    "df['cleaned_content'] = df['content'].apply(lambda x: clean_post(str(x)))\n",
    "df['cleaned_title'] = df['title'].apply(lambda x: clean_post(str(x)))\n",
    "\n",
    "# Apply the modified cleaning function to the comments\n",
    "df['cleaned_comments'] = df['comments'].apply(lambda comments: clean_comments(comments))\n",
    "\n",
    "# Display cleaned data\n",
    "print(df[['title', 'cleaned_title', 'content', 'cleaned_content']].head())\n"
   ]
  },
  {
   "cell_type": "code",
   "execution_count": null,
   "metadata": {},
   "outputs": [],
   "source": [
    "df.head()"
   ]
  },
  {
   "cell_type": "code",
   "execution_count": null,
   "metadata": {},
   "outputs": [],
   "source": [
    "df.shape"
   ]
  },
  {
   "cell_type": "code",
   "execution_count": null,
   "metadata": {},
   "outputs": [],
   "source": []
  }
 ],
 "metadata": {
  "kernelspec": {
   "display_name": "Python 3 (ipykernel)",
   "language": "python",
   "name": "python3"
  },
  "language_info": {
   "codemirror_mode": {
    "name": "ipython",
    "version": 3
   },
   "file_extension": ".py",
   "mimetype": "text/x-python",
   "name": "python",
   "nbconvert_exporter": "python",
   "pygments_lexer": "ipython3",
   "version": "3.12.5"
  }
 },
 "nbformat": 4,
 "nbformat_minor": 4
}
